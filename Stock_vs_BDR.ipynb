{
  "nbformat": 4,
  "nbformat_minor": 0,
  "metadata": {
    "colab": {
      "provenance": [],
      "include_colab_link": true
    },
    "kernelspec": {
      "name": "python3",
      "display_name": "Python 3"
    },
    "language_info": {
      "name": "python"
    }
  },
  "cells": [
    {
      "cell_type": "markdown",
      "metadata": {
        "id": "view-in-github",
        "colab_type": "text"
      },
      "source": [
        "<a href=\"https://colab.research.google.com/github/GeorgeTelles/stock_vs_bdr/blob/main/Stock_vs_BDR.ipynb\" target=\"_parent\"><img src=\"https://colab.research.google.com/assets/colab-badge.svg\" alt=\"Open In Colab\"/></a>"
      ]
    },
    {
      "cell_type": "markdown",
      "source": [
        "![Artboard 1.png](data:image/png;base64,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)"
      ],
      "metadata": {
        "id": "rUFsn5PlHZcJ"
      }
    },
    {
      "cell_type": "markdown",
      "source": [
        "# **Qual é mais vantajoso? Investir via BDR ou diretamente na Ação?**"
      ],
      "metadata": {
        "id": "0MmZ9EFtH8r9"
      }
    },
    {
      "cell_type": "markdown",
      "source": [
        "<img src=\"https://www.parmais.com.br/wp-content/uploads/BDRs-nao-patrocinados.png\" width=\"700\" align=\"left\"/>"
      ],
      "metadata": {
        "id": "gbHyuuMgIB59"
      }
    },
    {
      "cell_type": "markdown",
      "source": [
        "Neste estudo utilizarei o Python para automatizar a geração de um relatório que vai nos ajudar na tomada de decisão desse tipo de  investimento. Respondendo se existe uma vantagem financeira em investir na mesma empresa em alguma dessas modalidade. Decidi tambem utilizar a ação da apple neste exemplo."
      ],
      "metadata": {
        "id": "Q7uj55MCILjR"
      }
    },
    {
      "cell_type": "markdown",
      "source": [
        "# 0. Importação das bibliotecas"
      ],
      "metadata": {
        "id": "V8z9DggDIl7a"
      }
    },
    {
      "cell_type": "code",
      "source": [
        "import pandas as pd\n",
        "import yfinance as yf\n",
        "import matplotlib.pyplot as plt\n",
        "from matplotlib.backends.backend_pdf import PdfPages"
      ],
      "metadata": {
        "id": "_NHh6i78KesK"
      },
      "execution_count": null,
      "outputs": []
    },
    {
      "cell_type": "markdown",
      "source": [
        "# 1. Captura dos dados"
      ],
      "metadata": {
        "id": "TLlLs4E5K4TO"
      }
    },
    {
      "cell_type": "code",
      "source": [
        "apple = yf.download(['AAPL34.SA', 'AAPL'], start = '2022-01-01')['Adj Close']"
      ],
      "metadata": {
        "id": "23zLacyaK6_9"
      },
      "execution_count": null,
      "outputs": []
    },
    {
      "cell_type": "code",
      "source": [
        "apple = apple.dropna()"
      ],
      "metadata": {
        "id": "4_rAH4iNLijA"
      },
      "execution_count": null,
      "outputs": []
    },
    {
      "cell_type": "code",
      "source": [
        "apple_normalizado = apple/apple.iloc[0]"
      ],
      "metadata": {
        "id": "F8OfVyTPMvT_"
      },
      "execution_count": null,
      "outputs": []
    },
    {
      "cell_type": "code",
      "source": [
        "apple_normalizado.plot();"
      ],
      "metadata": {
        "id": "JmRjvePtM9Vy"
      },
      "execution_count": null,
      "outputs": []
    },
    {
      "cell_type": "markdown",
      "source": [
        "# 2. Criando função para análise de várias janelas de tempo"
      ],
      "metadata": {
        "id": "sOsfe4kEOBNO"
      }
    },
    {
      "cell_type": "code",
      "source": [
        "def compara_ativos(inicio):\n",
        "  dados = yf.download(['AAPL34.SA', 'AAPL'], start = inicio, progress = False)['Adj Close']\n",
        "  dados = dados.dropna()\n",
        "  dados = dados/dados.iloc[0]\n",
        "  dados.plot();\n",
        "  plt.title(f'Comparação desde {inicio} até hoje')"
      ],
      "metadata": {
        "id": "XdUWA1DDOliD"
      },
      "execution_count": null,
      "outputs": []
    },
    {
      "cell_type": "markdown",
      "source": [
        "# 3. Criando loop para geração do relatório"
      ],
      "metadata": {
        "id": "1Dhs9U24PGJv"
      }
    },
    {
      "cell_type": "code",
      "source": [
        "datas = ['2018-01-01', '2019-01-01','2020-01-01','2021-01-01','2022-01-01','2023-01-01']"
      ],
      "metadata": {
        "id": "NZNu_R3_OJTg"
      },
      "execution_count": null,
      "outputs": []
    },
    {
      "cell_type": "code",
      "source": [
        "relatorio = PdfPages('relatorio_acao_vs_bdr.pdf')\n",
        "\n",
        "for data in datas:\n",
        "  relatorio.savefig(compara_ativos(data))\n",
        "relatorio.close()"
      ],
      "metadata": {
        "id": "IuAgD1lVPtY4"
      },
      "execution_count": null,
      "outputs": []
    },
    {
      "cell_type": "markdown",
      "source": [
        "Analisando de forma simplista, investir na empresa Apple via BDR proporcionaria mais rentabilidade, porem, será que essa rentabilidade é atrelada ao papel ou a valorização do cambio, visto que o papel original é cotado em dolar e o BDR é cotado em Reais tendo como base o preço do Papel em dolar. Vamos analisar isso."
      ],
      "metadata": {
        "id": "NPTgKZSuKVkK"
      }
    },
    {
      "cell_type": "markdown",
      "source": [
        "# 4. Mensurar o impacto do câmbio"
      ],
      "metadata": {
        "id": "Zm2cmlXC4fVz"
      }
    },
    {
      "cell_type": "code",
      "source": [
        "dados = yf.download(['AAPL34.SA', 'AAPL', 'USDBRL=X'], start = '2017-01-03')['Adj Close']"
      ],
      "metadata": {
        "id": "vYzDrhYM5tdG"
      },
      "execution_count": null,
      "outputs": []
    },
    {
      "cell_type": "code",
      "source": [
        "dados = dados.dropna()"
      ],
      "metadata": {
        "id": "dyK6Tu-q5tdJ"
      },
      "execution_count": null,
      "outputs": []
    },
    {
      "cell_type": "markdown",
      "source": [
        "Criar nova coluna para encontrar o preço de AAPL em reais"
      ],
      "metadata": {
        "id": "3zS80tG153j5"
      }
    },
    {
      "cell_type": "code",
      "source": [
        "dados['Apple_reais'] = dados['AAPL'] * dados['USDBRL=X']"
      ],
      "metadata": {
        "id": "-FJ_M03C6BFV"
      },
      "execution_count": null,
      "outputs": []
    },
    {
      "cell_type": "markdown",
      "source": [
        "Normalizar todo o dataframe"
      ],
      "metadata": {
        "id": "6MN1Ok3i6Ugs"
      }
    },
    {
      "cell_type": "code",
      "source": [
        "dados_normalizados = dados/dados.iloc[0]"
      ],
      "metadata": {
        "id": "xot4DJ2X6WjD"
      },
      "execution_count": null,
      "outputs": []
    },
    {
      "cell_type": "markdown",
      "source": [
        "Agora temos o Preço da Apple com a volatilidade do Cambio entre Dolar e Real."
      ],
      "metadata": {
        "id": "fSY2mHwZOtSJ"
      }
    },
    {
      "cell_type": "code",
      "source": [
        "dados_normalizados[['AAPL34.SA', 'Apple_reais']].plot()"
      ],
      "metadata": {
        "id": "hPW88GSj6O37"
      },
      "execution_count": null,
      "outputs": []
    },
    {
      "cell_type": "markdown",
      "source": [
        "# Conclusão:\n",
        "Após analisar o impacto do câmbio (USD/BRL) nos investimentos em ações internacionais via BDR e diretamente, concluímos que não há uma diferença substancial de rentabilidade entre as duas abordagens. A principal distinção reside na exposição ao câmbio: ao optar por BDRs, você está automaticamente sujeito às flutuações cambiais, o que pode afetar sua rentabilidade de forma imediata conforme o câmbio varia. Por outro lado, ao investir diretamente na empresa, como a Apple, o efeito do câmbio só se manifesta no momento da conversão de seus investimentos de dólares para reais. Essa diferenciação é crucial para investidores que buscam compreender como a volatilidade cambial pode influenciar suas estratégias de investimento, permitindo uma tomada de decisão mais informada e alinhada com seus objetivos financeiros de longo prazo."
      ],
      "metadata": {
        "id": "TsBfAzClPnyx"
      }
    }
  ]
}